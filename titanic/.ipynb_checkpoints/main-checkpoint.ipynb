{
 "cells": [
  {
   "cell_type": "code",
   "execution_count": 17,
   "id": "509b56d5-fa3c-42b8-aed1-0487055e0b0f",
   "metadata": {},
   "outputs": [],
   "source": [
    "import numpy as np\n",
    "import pandas as pd\n",
    "import matplotlib.pyplot as plt\n",
    "import seaborn as sns\n",
    "\n",
    "train_data = pd.read_csv('./train.csv')\n",
    "test_data = pd.read_csv('./test.csv')\n",
    "total_data = pd.concat([train_data, test_data])"
   ]
  },
  {
   "cell_type": "code",
   "execution_count": 18,
   "id": "ac5e4802-0232-4683-9154-fdd63ee7b7ed",
   "metadata": {},
   "outputs": [],
   "source": [
    "total_data = total_data.drop(columns=['Cabin', 'PassengerId'])"
   ]
  },
  {
   "cell_type": "code",
   "execution_count": 19,
   "id": "8d8ef4bd-030b-4aae-b6fe-6058c32b00cd",
   "metadata": {},
   "outputs": [],
   "source": [
    "total_data['Title'] = total_data.Name.str.split(',', expand=True)[1].str.split('.', expand=True)[0]\n",
    "title_age = total_data[['Sex', 'Title', 'Age']]"
   ]
  },
  {
   "cell_type": "code",
   "execution_count": 20,
   "id": "6699e278-1c71-41ad-bd19-7b911e39fccd",
   "metadata": {},
   "outputs": [],
   "source": [
    "total_data = total_data.drop(columns='Name')"
   ]
  },
  {
   "cell_type": "code",
   "execution_count": 21,
   "id": "7903241c-628d-4f88-b9f5-96cf8f7da3ca",
   "metadata": {},
   "outputs": [],
   "source": [
    "##### fill in the missing age #####\n",
    "title_count = title_age.groupby(['Sex', 'Title']).count()"
   ]
  },
  {
   "cell_type": "code",
   "execution_count": 22,
   "id": "09c3e1de-855a-4bf6-9690-5d474a4096b3",
   "metadata": {},
   "outputs": [],
   "source": [
    "title_age = title_age.groupby(['Title', 'Sex'])['Age'].mean().unstack()"
   ]
  },
  {
   "cell_type": "code",
   "execution_count": 23,
   "id": "5473d023-9e24-4d1c-a78e-dcc893602f64",
   "metadata": {},
   "outputs": [
    {
     "name": "stdout",
     "output_type": "stream",
     "text": [
      " Mr has missed 166 age value\n",
      " Miss has missed 58 age value\n",
      " Mrs has missed 28 age value\n",
      " Master has missed 7 age value\n",
      " Dr has missed 1 age value\n"
     ]
    }
   ],
   "source": [
    "# find the title of NaN Age\n",
    "def check_title_age():\n",
    "    missing_list = []\n",
    "    for index in total_data.index:\n",
    "        if (pd.isna(total_data.iloc[index]['Age']))== True:\n",
    "            missing_list.append(total_data.iloc[index]['Title'])\n",
    "    missing_list = pd.Series(missing_list)\n",
    "    missing_list = missing_list.value_counts().reset_index()\n",
    "    missing_list.columns = ['title', 'count']\n",
    "    for index in missing_list.index:\n",
    "        print(\"{} has missed {} age value\".format(missing_list.iloc[index]['title'],\n",
    "                                                  missing_list.iloc[index]['count']))\n",
    "check_title_age()"
   ]
  },
  {
   "cell_type": "code",
   "execution_count": 24,
   "id": "3ded14c4-a3a6-4cb8-91ba-906bbbe818b1",
   "metadata": {},
   "outputs": [],
   "source": [
    "# fill in age value\n",
    "def fillin_missing_age():\n",
    "    def title_data():\n",
    "        total_data['Title'] = total_data.Title.replace(['Miss', 'Mlle', 'Mme', 'Ms', 'Lady'], 'Mrs', regex=True)\n",
    "        re_title_age = total_data[['Title', 'Age']].dropna().groupby('Title', as_index=False)['Age'].mean()\n",
    "        return re_title_age\n",
    "    re_title_age = title_data()\n",
    "    for index in total_data[total_data['Age'].isnull()].index:\n",
    "        title = total_data.iloc[index]['Title']\n",
    "        age = re_title_age.loc[re_title_age['Title'] == str(title),\n",
    "                               'Age']\n",
    "        total_data.loc[index,'Age'] = int(age)\n",
    "fillin_missing_age()"
   ]
  },
  {
   "cell_type": "code",
   "execution_count": 25,
   "id": "093f12e4-2fe7-45c5-a60b-79dbb5b6830f",
   "metadata": {},
   "outputs": [],
   "source": [
    "##### fill in missing fare\n",
    "def fillin_missing_fare():\n",
    "    fare_data = total_data[['Pclass', 'Embarked', 'Fare']].groupby(['Pclass', 'Embarked'])['Fare'].mean().unstack()\n",
    "    fare = 0\n",
    "    for index in total_data[total_data.Fare.isnull()].index:\n",
    "        family = total_data.iloc[index]['SibSp'] + total_data.iloc[index]['Parch']\n",
    "        ticket = total_data.iloc[index]['Ticket']\n",
    "        if family == 0:\n",
    "            person_class = total_data.iloc[index]['Pclass']\n",
    "            person_embarked = total_data.iloc[index]['Embarked']\n",
    "            fare = fare_data.loc[person_class, person_embarked]\n",
    "        else:\n",
    "             fare = total_data[(total_data['Ticket']==ticket) & \n",
    "                             total_data['Fare'].isnull() == False]['Fare']\n",
    "    total_data.loc[index, 'Fare'] = fare\n",
    "fillin_missing_fare()"
   ]
  },
  {
   "cell_type": "code",
   "execution_count": 26,
   "id": "8bb28542-c26e-47e6-b8aa-910608345e50",
   "metadata": {},
   "outputs": [],
   "source": [
    "##### count family size\n",
    "def family_count():\n",
    "    for index in total_data.index:\n",
    "        family = total_data.iloc[index]['SibSp'] + total_data.iloc[index]['Parch']\n",
    "        total_data.loc[total_data.index==index, 'Family_count'] = family\n",
    "family_count()"
   ]
  },
  {
   "cell_type": "code",
   "execution_count": 27,
   "id": "d33f282d-2964-4496-a805-25f3d44205e3",
   "metadata": {},
   "outputs": [],
   "source": [
    "##### count connected tickets \n",
    "def connected_ticket_count():\n",
    "    connected_count = total_data.groupby('Ticket', as_index=False).size()\n",
    "    for index in connected_count.index:\n",
    "        ticket = connected_count.iloc[index]['Ticket']\n",
    "        counts = connected_count.iloc[index]['size'] - 1\n",
    "        total_data.loc[total_data.Ticket == str(ticket), 'Relatives'] = counts\n",
    "connected_ticket_count()"
   ]
  },
  {
   "cell_type": "code",
   "execution_count": 28,
   "id": "77f83905-a408-4b27-9635-e19c6dd80eb5",
   "metadata": {},
   "outputs": [],
   "source": [
    "##### 1 => female, 0 => male #####\n",
    "total_data['Sex'] = total_data['Sex'].map({\n",
    "    'female': 1,\n",
    "    'male': 0\n",
    "}).astype(int)"
   ]
  },
  {
   "cell_type": "code",
   "execution_count": 29,
   "id": "10be212e-e443-40d0-ae5d-df1c7c0d2c90",
   "metadata": {},
   "outputs": [],
   "source": [
    "##### enconding embarked data #####\n",
    "encoded_embarked = pd.get_dummies(total_data['Embarked'], prefix='Embared')"
   ]
  },
  {
   "cell_type": "code",
   "execution_count": 30,
   "id": "d10d7297-82c0-43c0-9477-923d9b47bf62",
   "metadata": {},
   "outputs": [],
   "source": [
    "total_data = pd.concat([total_data, encoded_embarked], axis=1)\n",
    "total_data = total_data.drop(columns=['Embarked', 'Ticket', 'Title', 'SibSp', 'Parch'])"
   ]
  },
  {
   "cell_type": "code",
   "execution_count": null,
   "id": "f2aa5c7f-4ecb-4000-96c7-2cb0982170cf",
   "metadata": {},
   "outputs": [],
   "source": []
  }
 ],
 "metadata": {
  "kernelspec": {
   "display_name": "Python 3.9.4 64-bit ('base': conda)",
   "language": "python",
   "name": "python394jvsc74a57bd095ec9ec1504d83f612128e0fb229072f90bbb4cb09d9d5d93b5dd26e0ca2cfd1"
  },
  "language_info": {
   "codemirror_mode": {
    "name": "ipython",
    "version": 3
   },
   "file_extension": ".py",
   "mimetype": "text/x-python",
   "name": "python",
   "nbconvert_exporter": "python",
   "pygments_lexer": "ipython3",
   "version": "3.9.4"
  }
 },
 "nbformat": 4,
 "nbformat_minor": 5
}
